{
  "nbformat": 4,
  "nbformat_minor": 0,
  "metadata": {
    "colab": {
      "provenance": []
    },
    "kernelspec": {
      "name": "python3",
      "display_name": "Python 3"
    },
    "language_info": {
      "name": "python"
    }
  },
  "cells": [
    {
      "cell_type": "code",
      "execution_count": null,
      "metadata": {
        "id": "JoQCVA6wwYLu"
      },
      "outputs": [],
      "source": [
        "#THEORY QUESTIONS"
      ]
    },
    {
      "cell_type": "code",
      "source": [
        "#Q-1 What is the difference between interpreted and compiled languages?\n",
        "#A-1 The  first and main difference between interpreted and compiled languages lies in how the code you write is executed by a computer.\n",
        "#In Compiled languages Source code is translated into machine code (binary instructions) by a compiler before it is run\n",
        "#while in Interpreted languages Source code is executed line by line by an interpreter at runtime."
      ],
      "metadata": {
        "id": "mm2W4KhHx2K4"
      },
      "execution_count": null,
      "outputs": []
    },
    {
      "cell_type": "code",
      "source": [
        "#Q-2 What is exception handling in Python?\n",
        "#A-2 Exception handling in Python is a way to manage and respond to errors that occur during program execution, without crashing the entire program.\n",
        "#An exception is an error that occurs during the execution of a program like:\n",
        "#x = 10/0 (ZeroDivisionError) Python provides a clean syntax using try, except, else, and finally blocks."
      ],
      "metadata": {
        "id": "M8sEl-b8x2gu"
      },
      "execution_count": null,
      "outputs": []
    },
    {
      "cell_type": "code",
      "source": [
        "#Q-3 What is the purpose of the finally block in exception handling?\n",
        "#A-3 The purpose of finally block in Python exception handling is used to define cleanup actions that must be executed\n",
        "#no matter what, whether an exception was raised or not, and whether it was caught or not."
      ],
      "metadata": {
        "id": "2gqGp9n5xzDD"
      },
      "execution_count": 4,
      "outputs": []
    },
    {
      "cell_type": "code",
      "source": [
        "#Q-4  What is logging in Python?\n",
        "#A-4 Logging in Python is the process of recording messages about your program’s execution—especially useful for\n",
        "#debugging, monitoring, and diagnostics in production systems."
      ],
      "metadata": {
        "id": "t9sedYs12gEf"
      },
      "execution_count": 5,
      "outputs": []
    },
    {
      "cell_type": "code",
      "source": [
        "#Q-5 What is the significance of the __del__ method in Python?\n",
        "#A-5 The __del__ method in Python is a destructor method.\n",
        "#It is called when an object is about to be destroyed, which usually happens when its reference count drops to zero."
      ],
      "metadata": {
        "id": "NSucqmNj3Zf1"
      },
      "execution_count": 6,
      "outputs": []
    },
    {
      "cell_type": "code",
      "source": [
        "#Q-6 What is the difference between import and from ... import in Python?\n",
        "#A-6 In Python, import and from ... import are both used to bring modules or specific items from modules into your code\n",
        "#but they differ in how they do it and what they import.\n",
        "#like in import you imports the entire module like (import math)\n",
        "#but in from ... import you Imports specific functions, classes, or variables from a module like(from math import sqrt)"
      ],
      "metadata": {
        "id": "SOsMLLGY4Vb0"
      },
      "execution_count": 8,
      "outputs": []
    },
    {
      "cell_type": "code",
      "source": [
        "#Q-7 How can you handle multiple exceptions in Python?\n",
        "#A-7 Handling multiple exceptions in Python can be done in several ways depending on what behavior you want. Here are the main approaches:\n",
        "# 1. Using a Tuple in a Single except Block you Use this when you want to handle multiple exceptions with the same block of code.\n",
        "# 2. Using Multiple except Blocks you Use this when you want to handle different exceptions differently.\n",
        "# 3. Using else and finally with try these aren't for handling multiple exception types, but they help structure your error-handling logic more clearly.\n",
        "# 4. Catching All Exceptions You can catch all exceptions using except Exception: or except:. This is a broad net and can hide bugs, so use with caution."
      ],
      "metadata": {
        "id": "VWLkyWHr5JcH"
      },
      "execution_count": 9,
      "outputs": []
    },
    {
      "cell_type": "code",
      "source": [
        "#Q-8 What is the purpose of the with statement when handling files in Python?\n",
        "#A-8 The with statement in Python is used for resource management—especially when working with files\n",
        "#Its main purpose is to ensure that resources like file handles are properly closed when the block exits even if an error occurs during processing."
      ],
      "metadata": {
        "id": "GzDHrtKv8wU4"
      },
      "execution_count": 10,
      "outputs": []
    },
    {
      "cell_type": "code",
      "source": [
        "#Q-9 What is the difference between multithreading and multiprocessing?\n",
        "#A-9 The key difference between multithreading and multiprocessing in Python lies in how they achieve concurrency and\n",
        "#how they utilize system resources, especially CPUs."
      ],
      "metadata": {
        "id": "v_WU73su-RqW"
      },
      "execution_count": 11,
      "outputs": []
    },
    {
      "cell_type": "code",
      "source": [
        "#Q-10 What are the advantages of using logging in a program?\n",
        "#A-10 Using logging in a program has several significant advantages over using basic print statements, especially when building larger or more complex applications.\n",
        "#Logging provides better control over output, flexibility, and insights into how your application is behaving during execution."
      ],
      "metadata": {
        "id": "_8_cr7_E_XE4"
      },
      "execution_count": 12,
      "outputs": []
    },
    {
      "cell_type": "code",
      "source": [
        "#Q-11 What is memory management in Python?\n",
        "#A-11 Memory management in Python refers to the process of allocating, tracking, and reclaiming memory during a program's execution.\n",
        "#Python handles most of this automatically, allowing developers to focus on writing code rather than manually managing memory."
      ],
      "metadata": {
        "id": "4dhZmXuHBO05"
      },
      "execution_count": 13,
      "outputs": []
    },
    {
      "cell_type": "code",
      "source": [
        "#Q-12 What are the basic steps involved in exception handling in Python?\n",
        "#A-12 In Python, the basics steps involved in exception handling allows you to manage errors gracefully without crashing the program.\n",
        "#The basic steps involved in exception handling are try...except block, with optional else and finally clauses."
      ],
      "metadata": {
        "id": "BVNTn-u_Bps0"
      },
      "execution_count": 14,
      "outputs": []
    },
    {
      "cell_type": "code",
      "source": [
        "#Q-13 Why is memory management important in Python?\n",
        "#A-13 Memory management is important in Python because it directly impacts your program’s performance, stability, and scalability.\n",
        "#Even though Python handles memory automatically, understanding and respecting how it works is crucial for writing efficient, error-free code."
      ],
      "metadata": {
        "id": "ZPOa-VmNCsfm"
      },
      "execution_count": 15,
      "outputs": []
    },
    {
      "cell_type": "code",
      "source": [
        "#Q-14 What is the role of try and except in exception handling?\n",
        "#A-14 The try and except blocks are the core components of exception handling in Python.\n",
        "#Their role is to allow your program to gracefully handle errors that might otherwise cause it to crash."
      ],
      "metadata": {
        "id": "qj_kJr7RDSVc"
      },
      "execution_count": 16,
      "outputs": []
    },
    {
      "cell_type": "code",
      "source": [
        "#Q-15 How does Python's garbage collection system work?\n",
        "#A-15 Python’s garbage collection system is an automatic memory management mechanism that reclaims memory occupied by objects no longer in use\n",
        "#preventing memory leaks and optimizing resource usage.\n",
        "#It primarily relies on two mechanisms: one is Reference counting and second is garbage collector."
      ],
      "metadata": {
        "id": "x8Jj50-cD58c"
      },
      "execution_count": 17,
      "outputs": []
    },
    {
      "cell_type": "code",
      "source": [
        "#Q-16 What is the purpose of the else block in exception handling?\n",
        "#A-16 The purpose of else block in Python’s exception handling is used to define code that should run only if no exceptions were raised in the try block.\n",
        "#This block of Code run only if everything went well (else).\n",
        "#it makes your code cleaner and more readable."
      ],
      "metadata": {
        "id": "B_Aj364ZFGM4"
      },
      "execution_count": 18,
      "outputs": []
    },
    {
      "cell_type": "code",
      "source": [
        "#Q-17 What are the common logging levels in Python?\n",
        "#A-17 Python provides a built-in logging module with standard logging levels that represent the severity or importance of the messages.\n",
        "#These levels help you control what kind of information gets logged.Common Logging Levels in Python (from lowest to highest severity) are:\n",
        "#DEBUG, INF0, Warning, Error, Critical."
      ],
      "metadata": {
        "id": "6E8guvJoGfiC"
      },
      "execution_count": 19,
      "outputs": []
    },
    {
      "cell_type": "code",
      "source": [
        "#Q-18 What is the difference between os.fork() and multiprocessing in Python?\n",
        "#A-18 The difference between os.fork() and the multiprocessing module in Python comes down to abstraction, portability, and control.\n",
        "#Both are used to create new processes, but they differ significantly in how they work and when they should be used."
      ],
      "metadata": {
        "id": "-L14PDCoNCmU"
      },
      "execution_count": 20,
      "outputs": []
    },
    {
      "cell_type": "code",
      "source": [
        "#Q-19 What is the importance of closing a file in Python?\n",
        "#A-19 Closing a file in Python is important because it ensures that resources are released, data is saved correctly, and system performance remains optimal.\n",
        "#Failing to close a file can lead to data loss, memory leaks, or file corruption, especially in write or append operations."
      ],
      "metadata": {
        "id": "MIsBMRsZOuAT"
      },
      "execution_count": 21,
      "outputs": []
    },
    {
      "cell_type": "code",
      "source": [
        "#Q-20 What is the difference between file.read() and file.readline() in Python?\n",
        "#A-20 The difference between file.read() and file.readline() in Python lies in how much data they read from a file\n",
        "#As file.read() reads the entire file (or a specified number of bytes) at once while file.readline() reads the file one line at a time, up to the next newline(\\n)."
      ],
      "metadata": {
        "id": "7BRHGu82PIxw"
      },
      "execution_count": 22,
      "outputs": []
    },
    {
      "cell_type": "code",
      "source": [
        "#Q-21 What is the logging module in Python used for?\n",
        "#A-21 The logging module in Python is used for tracking events that happen during a program’s execution.\n",
        "#It provides a flexible way to record messages, such as debugging output, informational updates, warnings, errors, or critical failures—without relying on print() statements."
      ],
      "metadata": {
        "id": "i0pv_99UUK63"
      },
      "execution_count": 23,
      "outputs": []
    },
    {
      "cell_type": "code",
      "source": [
        "#Q-22 What is the os module in Python used for in file handling?\n",
        "#A-22 The os module in Python is used in file handling to provide a way to interact with the operating system, particularly for manipulating files and directories.\n",
        "#It complements the basic file operations (like open(), read(), write()) by allowing you to navigate, create, rename, delete, and inspect files and directories."
      ],
      "metadata": {
        "id": "dZdRwtkVVMov"
      },
      "execution_count": 24,
      "outputs": []
    },
    {
      "cell_type": "code",
      "source": [
        "#Q-23 What are the challenges associated with memory management in Python?\n",
        "#A-23 Memory management in Python is largely automatic, its garbage collection system and reference counting is very helpful in memory management.\n",
        "#However, sometimes we still face several challenges that can affect performance, cause memory leaks, or lead to subtle bugs—especially in large or long-running applications."
      ],
      "metadata": {
        "id": "V1WPEHzCWIzI"
      },
      "execution_count": 25,
      "outputs": []
    },
    {
      "cell_type": "code",
      "source": [
        "#Q-24  How do you raise an exception manually in Python?\n",
        "#A-24 in Python, you can manually raise an exception using the raise keyword.\n",
        "#This is useful when you want to signal an error or abort a process under certain conditions in your program.\n",
        "#You can raise both built-in exceptions and custom exceptions."
      ],
      "metadata": {
        "id": "fMearxb3c4Cl"
      },
      "execution_count": 26,
      "outputs": []
    },
    {
      "cell_type": "code",
      "source": [
        "#Q-25  Why is it important to use multithreading in certain applications?\n",
        "#A-25 Multithreading is an important technique in certain applications because it allows a program to perform multiple tasks concurrently within the same process.\n",
        "#This is particularly beneficial for improving performance, responsiveness, and resource efficiency, especially in I/O-bound or parallelizable tasks.\n",
        "#The key reasons to  use multithreading in certain applications are:\n",
        "#Improved Responsiveness (UI Applications),  Parallelism in I/O-bound Tasks, Simultaneous Execution of Independent Tasks, Resource Sharing, Efficient CPU Utilization"
      ],
      "metadata": {
        "id": "GXYrNufddRWF"
      },
      "execution_count": 27,
      "outputs": []
    },
    {
      "cell_type": "code",
      "source": [
        "#PRACTICAL QUESTIONS"
      ],
      "metadata": {
        "id": "EVxu_qj_fMcb"
      },
      "execution_count": 28,
      "outputs": []
    },
    {
      "cell_type": "code",
      "source": [
        "#A-1\n",
        "\n",
        "with open('example.txt', 'w') as file:\n",
        "    file.write('Hello, Alice!')"
      ],
      "metadata": {
        "id": "O-2_pYMefUOT"
      },
      "execution_count": 1,
      "outputs": []
    },
    {
      "cell_type": "code",
      "source": [
        "#A-2\n",
        "\n",
        "with open('example.txt', 'r') as file:\n",
        "    for line in file:\n",
        "        print(line)"
      ],
      "metadata": {
        "colab": {
          "base_uri": "https://localhost:8080/"
        },
        "id": "1i0o1HVfZU2_",
        "outputId": "c052e12c-31ed-4bc6-a635-89cb766ab12f"
      },
      "execution_count": 12,
      "outputs": [
        {
          "output_type": "stream",
          "name": "stdout",
          "text": [
            "Hello, Alice!\n"
          ]
        }
      ]
    },
    {
      "cell_type": "code",
      "source": [
        "#A-3\n",
        "\n",
        "filename = 'example.txt1'\n",
        "\n",
        "try:\n",
        "    with open(filename, 'r') as file:\n",
        "        for line in file:\n",
        "            print(line)\n",
        "except FileNotFoundError:\n",
        "    print(\"The file '{filename}' was not found.\")"
      ],
      "metadata": {
        "colab": {
          "base_uri": "https://localhost:8080/"
        },
        "id": "0_314JEQcXYv",
        "outputId": "ba72e331-f65f-4e98-f5ee-940b961fc2f3"
      },
      "execution_count": 11,
      "outputs": [
        {
          "output_type": "stream",
          "name": "stdout",
          "text": [
            "The file '{filename}' was not found.\n"
          ]
        }
      ]
    },
    {
      "cell_type": "code",
      "source": [
        " #A-4\n",
        "\n",
        "source_file = 'source.txt'\n",
        "destination_file = 'destination.txt'\n",
        "\n",
        "try:\n",
        "    with open(source_file, 'r') as src, open(destination_file, 'w') as dest:\n",
        "        for line in src:\n",
        "            dest.write(line)\n",
        "\n",
        "    print(f\"Contents copied from '{source_file}' to '{destination_file}'.\")\n",
        "\n",
        "except FileNotFoundError:\n",
        "    print(f\"Error: The file '{source_file}' was not found.\")\n",
        "\n",
        "except IOError as e:\n",
        "    print(f\"An I/O error occurred: {e}\")"
      ],
      "metadata": {
        "colab": {
          "base_uri": "https://localhost:8080/"
        },
        "id": "zxoHAQMjclvL",
        "outputId": "f317e060-5345-4ff7-dc5b-b8333f00fb81"
      },
      "execution_count": 13,
      "outputs": [
        {
          "output_type": "stream",
          "name": "stdout",
          "text": [
            "Error: The file 'source.txt' was not found.\n"
          ]
        }
      ]
    },
    {
      "cell_type": "code",
      "source": [
        "#A-5\n",
        "\n",
        "try:\n",
        "    10/0\n",
        "except ZeroDivisionError as e:\n",
        "    print(\"Handling the zero division error\", e)\n",
        "    print(\"Since the denm value is 0, using the default value 1, the quotient is\", 10/1)"
      ],
      "metadata": {
        "colab": {
          "base_uri": "https://localhost:8080/"
        },
        "id": "UpD5l9lIhAZJ",
        "outputId": "eb19bf88-9a47-492f-fba1-735420ee76f3"
      },
      "execution_count": 14,
      "outputs": [
        {
          "output_type": "stream",
          "name": "stdout",
          "text": [
            "Handling the zero division error division by zero\n",
            "Since the denm value is 0, using the default value 1, the quotient is 10.0\n"
          ]
        }
      ]
    },
    {
      "cell_type": "code",
      "source": [
        "#A-6\n",
        "\n",
        "import logging\n",
        "\n",
        "logging.basicConfig(filename='error_log.txt',level=logging.ERROR,format='%(asctime)s - %(levelname)s - %(message)s')\n",
        "\n",
        "try:\n",
        "    numerator = 10\n",
        "    denominator = 0\n",
        "    result = numerator / denominator\n",
        "    print(f\"Result: {result}\")\n",
        "except ZeroDivisionError as e:\n",
        "    logging.error(\"Attempted to divide by zero: %s\", e)\n",
        "    print(\"An error occurred. Check 'error_log.txt' for details.\")"
      ],
      "metadata": {
        "colab": {
          "base_uri": "https://localhost:8080/"
        },
        "id": "oPzrwFDkiUoK",
        "outputId": "a88ef50e-c93f-40ce-c733-5fa2fed488d8"
      },
      "execution_count": 16,
      "outputs": [
        {
          "output_type": "stream",
          "name": "stderr",
          "text": [
            "ERROR:root:Attempted to divide by zero: division by zero\n"
          ]
        },
        {
          "output_type": "stream",
          "name": "stdout",
          "text": [
            "An error occurred. Check 'error_log.txt' for details.\n"
          ]
        }
      ]
    },
    {
      "cell_type": "code",
      "source": [
        "#A-7\n",
        "\n",
        "import logging\n",
        "\n",
        "logging.basicConfig(filename='app.log',level=logging.DEBUG, format='%(asctime)s - %(levelname)s - %(message)s')\n",
        "\n",
        "\n",
        "logging.debug(\"This is a debug message.\")\n",
        "logging.info(\"This is an info message.\")\n",
        "logging.warning(\"This is a warning message.\")\n",
        "logging.error(\"This is an error message.\")\n",
        "logging.critical(\"This is a critical message.\")"
      ],
      "metadata": {
        "colab": {
          "base_uri": "https://localhost:8080/"
        },
        "id": "-ZuxBvMZjHzw",
        "outputId": "2b018b19-84ec-471d-df23-4c97898658a6"
      },
      "execution_count": 17,
      "outputs": [
        {
          "output_type": "stream",
          "name": "stderr",
          "text": [
            "WARNING:root:This is a warning message.\n",
            "ERROR:root:This is an error message.\n",
            "CRITICAL:root:This is a critical message.\n"
          ]
        }
      ]
    },
    {
      "cell_type": "code",
      "source": [
        "#A-8\n",
        "\n",
        "filename = 'non_existent_file.txt'\n",
        "\n",
        "try:\n",
        "    with open(filename, 'r') as file:\n",
        "        content = file.read()\n",
        "        print(content)\n",
        "except FileNotFoundError:\n",
        "    print(f\"Error: The file '{filename}' was not found.\")"
      ],
      "metadata": {
        "colab": {
          "base_uri": "https://localhost:8080/"
        },
        "id": "9ziphTR0lgVf",
        "outputId": "7f5b4654-8871-4cd0-886f-7ff8fe1950c5"
      },
      "execution_count": 19,
      "outputs": [
        {
          "output_type": "stream",
          "name": "stdout",
          "text": [
            "Error: The file 'non_existent_file.txt' was not found.\n"
          ]
        }
      ]
    },
    {
      "cell_type": "code",
      "source": [
        "#A-9\n",
        "\n",
        "filename = 'example.txt'\n",
        "\n",
        "try:\n",
        "    with open(filename, 'r') as file:\n",
        "        lines = file.readlines()\n",
        "    print(\"File content as a list:\")\n",
        "    print(lines)\n",
        "except FileNotFoundError:\n",
        "    print(f\"Error: The file '{filename}' was not found.\")"
      ],
      "metadata": {
        "colab": {
          "base_uri": "https://localhost:8080/"
        },
        "id": "ST688VXMmRKm",
        "outputId": "30082a8a-14c3-41c8-9eee-52a347095b5a"
      },
      "execution_count": 20,
      "outputs": [
        {
          "output_type": "stream",
          "name": "stdout",
          "text": [
            "File content as a list:\n",
            "['Hello, Alice!']\n"
          ]
        }
      ]
    },
    {
      "cell_type": "code",
      "source": [
        "#A-10\n",
        "\n",
        "filename = 'example.txt'\n",
        "\n",
        "try:\n",
        "    with open(filename, 'a') as file:\n",
        "        file.write(\"The new line has been appended.\\n\")\n",
        "    print(\"Data successfully appended.\")\n",
        "except IOError as e:\n",
        "    print(f\"An I/O error occurred: {e}\")"
      ],
      "metadata": {
        "colab": {
          "base_uri": "https://localhost:8080/"
        },
        "id": "DCmGdLGPnOdF",
        "outputId": "1f483ee1-588d-4663-a7c7-770d7288edcd"
      },
      "execution_count": 22,
      "outputs": [
        {
          "output_type": "stream",
          "name": "stdout",
          "text": [
            "Data successfully appended.\n"
          ]
        }
      ]
    },
    {
      "cell_type": "code",
      "source": [
        "#A-11\n",
        "\n",
        "person = {'name': 'Alice','age': 30}\n",
        "\n",
        "try:\n",
        "    print(\"Work:\", person['work'])\n",
        "except KeyError:\n",
        "    print(\"The key 'work' does not exist in the dictionary.\")"
      ],
      "metadata": {
        "colab": {
          "base_uri": "https://localhost:8080/"
        },
        "id": "3uPiPgg2n0Rs",
        "outputId": "fcf09a02-cb3c-457a-f189-72c1e6ccd96d"
      },
      "execution_count": 23,
      "outputs": [
        {
          "output_type": "stream",
          "name": "stdout",
          "text": [
            "The key 'work' does not exist in the dictionary.\n"
          ]
        }
      ]
    },
    {
      "cell_type": "code",
      "source": [
        "#A-12\n",
        "\n",
        "try:\n",
        "    num1 = int(input(\"Enter a number: \"))\n",
        "    num2 = int(input(\"Enter another number: \"))\n",
        "    result = num1 / num2\n",
        "\n",
        "    data = {\"name\": \"Alice\"}\n",
        "    print(\"Age:\", data[\"age\"])\n",
        "\n",
        "except ValueError:\n",
        "    print(\"Invalid input. Please enter a valid integer.\")\n",
        "\n",
        "except ZeroDivisionError:\n",
        "    print(\"Division by zero is not allowed.\")\n",
        "\n",
        "except KeyError as e:\n",
        "    print(f\"Error: Missing key in dictionary - {e}\")\n",
        "\n",
        "except Exception as e:\n",
        "    print(f\"An unexpected error occurred: {e}\")"
      ],
      "metadata": {
        "colab": {
          "base_uri": "https://localhost:8080/"
        },
        "id": "4NeTIGy9oydD",
        "outputId": "fa3006ba-45c4-4018-a54a-dc0d9cc150f5"
      },
      "execution_count": 26,
      "outputs": [
        {
          "output_type": "stream",
          "name": "stdout",
          "text": [
            "Enter a number: 20/\"Ajay\n",
            "Invalid input. Please enter a valid integer.\n"
          ]
        }
      ]
    },
    {
      "cell_type": "code",
      "source": [
        "#A-13\n",
        "\n",
        "import os\n",
        "\n",
        "filename = 'example.txt'\n",
        "\n",
        "if os.path.exists(filename):\n",
        "    with open(filename, 'r') as file:\n",
        "        content = file.read()\n",
        "        print(content)"
      ],
      "metadata": {
        "colab": {
          "base_uri": "https://localhost:8080/"
        },
        "id": "BgFyIf5hqT6O",
        "outputId": "4503b316-5827-4bb0-fe71-9aee128374cf"
      },
      "execution_count": 27,
      "outputs": [
        {
          "output_type": "stream",
          "name": "stdout",
          "text": [
            "Hello, Alice!This is a new line being appended.\n",
            "The new line has been appended.\n",
            "\n"
          ]
        }
      ]
    },
    {
      "cell_type": "code",
      "source": [
        "#A-14\n",
        "\n",
        "import logging\n",
        "\n",
        "logging.basicConfig(filename='app.log',level=logging.DEBUG,format='%(asctime)s - %(levelname)s - %(message)s')\n",
        "\n",
        "def divide_numbers(a, b):\n",
        "    try:\n",
        "        result = a / b\n",
        "        logging.info(f\"Division successful: {a} / {b} = {result}\")\n",
        "        return result\n",
        "    except ZeroDivisionError as e:\n",
        "        logging.error(f\"Division error: Cannot divide {a} by zero. Exception: {e}\")\n",
        "        return None"
      ],
      "metadata": {
        "id": "7OslSkaOr61Q"
      },
      "execution_count": 28,
      "outputs": []
    },
    {
      "cell_type": "code",
      "source": [
        "logging.info(\"Program started.\")\n",
        "\n",
        "num1 = 10\n",
        "num2 = 0\n",
        "\n",
        "result = divide_numbers(num1, num2)\n",
        "\n",
        "if result is None:\n",
        "    logging.warning(\"The division operation failed due to an error.\")\n",
        "\n",
        "logging.info(\"Program ended.\")"
      ],
      "metadata": {
        "colab": {
          "base_uri": "https://localhost:8080/"
        },
        "id": "XGStz1cHsxGD",
        "outputId": "10f10960-aa7b-4070-c905-cccba0673a97"
      },
      "execution_count": 29,
      "outputs": [
        {
          "output_type": "stream",
          "name": "stderr",
          "text": [
            "ERROR:root:Division error: Cannot divide 10 by zero. Exception: division by zero\n",
            "WARNING:root:The division operation failed due to an error.\n"
          ]
        }
      ]
    },
    {
      "cell_type": "code",
      "source": [
        "#A-15\n",
        "\n",
        "def print_file_content(filename):\n",
        "    try:\n",
        "        with open(filename, 'r') as file:\n",
        "            content = file.read()\n",
        "            if content.strip():\n",
        "                print(\"File content:\")\n",
        "                print(content)\n",
        "            else:\n",
        "                print(\"The file is empty.\")\n",
        "    except FileNotFoundError:\n",
        "        print(\"Error: The file does not exist.\")\n",
        "    except IOError as e:\n",
        "        print(f\"An I/O error occurred: {e}\")\n",
        "\n",
        "print_file_content('example.txt1')"
      ],
      "metadata": {
        "colab": {
          "base_uri": "https://localhost:8080/"
        },
        "id": "Aqn8JBrTs8f2",
        "outputId": "45cf59b9-377c-4e56-c2fa-ed0a117c7156"
      },
      "execution_count": 33,
      "outputs": [
        {
          "output_type": "stream",
          "name": "stdout",
          "text": [
            "The file is empty.\n"
          ]
        }
      ]
    },
    {
      "cell_type": "code",
      "source": [
        "#A-16\n",
        "\n",
        "def create_large_list():\n",
        "    large_list = [i for i in range(1000000)]\n",
        "    return sum(large_list)\n",
        "\n",
        "if __name__ == '__main__':\n",
        "    result = create_large_list()\n",
        "    print(\"Sum:\", result)"
      ],
      "metadata": {
        "colab": {
          "base_uri": "https://localhost:8080/"
        },
        "id": "0bvOF2Zvt72e",
        "outputId": "cbd6ee4a-6859-48c8-e5e1-cfce50947a60"
      },
      "execution_count": 41,
      "outputs": [
        {
          "output_type": "stream",
          "name": "stdout",
          "text": [
            "Sum: 499999500000\n"
          ]
        }
      ]
    },
    {
      "cell_type": "code",
      "source": [
        "#A-17\n",
        "\n",
        "numbers = [1, 2, 3, 4, 5, 6, 10, 20, 24]\n",
        "\n",
        "filename = 'numbers.txt'\n",
        "\n",
        "try:\n",
        "    with open(filename, 'w') as file:\n",
        "        for number in numbers:\n",
        "            file.write(f\"{number}\\n\")\n",
        "    print(f\"Successfully wrote {len(numbers)} numbers to '{filename}'.\")\n",
        "except IOError as e:\n",
        "    print(f\"An I/O error occurred: {e}\")"
      ],
      "metadata": {
        "colab": {
          "base_uri": "https://localhost:8080/"
        },
        "id": "HNW3uU52yMjF",
        "outputId": "4e9fbc45-f998-4929-afe6-188725b7e60e"
      },
      "execution_count": 43,
      "outputs": [
        {
          "output_type": "stream",
          "name": "stdout",
          "text": [
            "Successfully wrote 9 numbers to 'numbers.txt'.\n"
          ]
        }
      ]
    },
    {
      "cell_type": "code",
      "source": [
        "#A-18\n",
        "\n",
        "import logging\n",
        "from logging.handlers import RotatingFileHandler\n",
        "\n",
        "logger = logging.getLogger('my_logger')\n",
        "logger.setLevel(logging.DEBUG)\n",
        "\n",
        "log_file = 'app.log'\n",
        "handler = RotatingFileHandler(log_file, maxBytes=1e6, backupCount=3)  # 1MB = 1e6 bytes\n",
        "handler.setLevel(logging.DEBUG)\n",
        "\n",
        "formatter = logging.Formatter('%(asctime)s - %(levelname)s - %(message)s')\n",
        "handler.setFormatter(formatter)\n",
        "\n",
        "logger.addHandler(handler)\n",
        "\n",
        "logger.debug(\"This is a debug message.\")\n",
        "logger.info(\"This is an info message.\")\n",
        "logger.warning(\"This is a warning message.\")\n",
        "logger.error(\"This is an error message.\")\n",
        "logger.critical(\"This is a critical message.\")"
      ],
      "metadata": {
        "colab": {
          "base_uri": "https://localhost:8080/"
        },
        "id": "SAFn0JBqyszt",
        "outputId": "a4056628-33c3-43cc-977f-feae4c56719e"
      },
      "execution_count": 44,
      "outputs": [
        {
          "output_type": "stream",
          "name": "stderr",
          "text": [
            "DEBUG:my_logger:This is a debug message.\n",
            "INFO:my_logger:This is an info message.\n",
            "WARNING:my_logger:This is a warning message.\n",
            "ERROR:my_logger:This is an error message.\n",
            "CRITICAL:my_logger:This is a critical message.\n"
          ]
        }
      ]
    },
    {
      "cell_type": "code",
      "source": [
        "#A-19\n",
        "\n",
        "def demo_errors():\n",
        "    my_list = [10, 20, 30]\n",
        "    my_dict = {'name': 'Alice', 'age': 25}\n",
        "\n",
        "    try:\n",
        "        print(\"List item:\", my_list[5])\n",
        "\n",
        "        print(\"City:\", my_dict['city'])\n",
        "\n",
        "    except IndexError:\n",
        "        print(\"Error: Tried to access an invalid index in the list.\")\n",
        "\n",
        "    except KeyError as e:\n",
        "        print(f\"Error: Missing key in dictionary - {e}\")\n",
        "demo_errors()"
      ],
      "metadata": {
        "colab": {
          "base_uri": "https://localhost:8080/"
        },
        "id": "IIzDxbFU1d27",
        "outputId": "ff4ae9b4-1738-4c8c-8f31-2cf170428be8"
      },
      "execution_count": 47,
      "outputs": [
        {
          "output_type": "stream",
          "name": "stdout",
          "text": [
            "Error: Tried to access an invalid index in the list.\n"
          ]
        }
      ]
    },
    {
      "cell_type": "code",
      "source": [
        "#A-20\n",
        "\n",
        "filename = 'example.txt'\n",
        "\n",
        "try:\n",
        "    with open(filename, 'r') as file:\n",
        "        content = file.read()\n",
        "        print(\"File content:\")\n",
        "        print(content)\n",
        "except FileNotFoundError:\n",
        "    print(f\"Error: The file '{filename}' was not found.\")"
      ],
      "metadata": {
        "colab": {
          "base_uri": "https://localhost:8080/"
        },
        "id": "18lLX4vd1uCJ",
        "outputId": "03c8793c-3ac1-48ec-d2b4-6fcbe713523d"
      },
      "execution_count": 48,
      "outputs": [
        {
          "output_type": "stream",
          "name": "stdout",
          "text": [
            "File content:\n",
            "Hello, Alice!This is a new line being appended.\n",
            "The new line has been appended.\n",
            "\n"
          ]
        }
      ]
    },
    {
      "cell_type": "code",
      "source": [
        "#A-21\n",
        "\n",
        "def count_word_in_file(filename, target_word):\n",
        "    try:\n",
        "        with open(filename, 'r') as file:\n",
        "            content = file.read()\n",
        "\n",
        "        word_count = content.lower().split().count(target_word.lower())\n",
        "\n",
        "        print(f\"The word '{target_word}' appears {word_count} time(s) in the file.\")\n",
        "\n",
        "    except FileNotFoundError:\n",
        "        print(f\"Error: The file '{filename}' was not found.\")\n",
        "    except IOError as e:\n",
        "        print(f\"An I/O error occurred: {e}\")"
      ],
      "metadata": {
        "id": "kdxAi2GT2mPS"
      },
      "execution_count": 49,
      "outputs": []
    },
    {
      "cell_type": "code",
      "source": [
        "filename = 'example.txt'\n",
        "target_word = 'line'\n",
        "count_word_in_file(filename, target_word)"
      ],
      "metadata": {
        "colab": {
          "base_uri": "https://localhost:8080/"
        },
        "id": "czFYrEoT3BnM",
        "outputId": "b84d1ea4-967b-473e-85f7-c72abe1733a8"
      },
      "execution_count": 50,
      "outputs": [
        {
          "output_type": "stream",
          "name": "stdout",
          "text": [
            "The word 'line' appears 2 time(s) in the file.\n"
          ]
        }
      ]
    },
    {
      "cell_type": "code",
      "source": [
        "#A-22\n",
        "\n",
        "import os\n",
        "\n",
        "filename = 'example.txt1'\n",
        "\n",
        "if os.path.exists(filename) and os.path.getsize(filename) > 0:\n",
        "    with open(filename, 'r') as file:\n",
        "        content = file.read()\n",
        "        print(\"File content:\")\n",
        "        print(content)\n",
        "else:\n",
        "    print(f\"The file '{filename}' is empty.\")"
      ],
      "metadata": {
        "colab": {
          "base_uri": "https://localhost:8080/"
        },
        "id": "7KzwO7_g3SBP",
        "outputId": "594f4a2e-f2a4-4c2e-a3db-f0f0ace38024"
      },
      "execution_count": 52,
      "outputs": [
        {
          "output_type": "stream",
          "name": "stdout",
          "text": [
            "The file 'example.txt1' is empty.\n"
          ]
        }
      ]
    },
    {
      "cell_type": "code",
      "source": [
        "#A-23\n",
        "\n",
        "import logging\n",
        "\n",
        "logging.basicConfig(filename='file_error.log',level=logging.ERROR,format='%(asctime)s - %(levelname)s - %(message)s')\n",
        "\n",
        "def read_file(filename):\n",
        "    try:\n",
        "        with open(filename, 'r') as file:\n",
        "            content = file.read()\n",
        "            print(\"File content:\")\n",
        "            print(content)\n",
        "    except FileNotFoundError:\n",
        "        logging.error(f\"File not found: {filename}\")\n",
        "        print(f\"Error: The file '{filename}' was not found.\")\n",
        "    except Exception as e:\n",
        "        logging.error(f\"Unexpected error: {e}\")\n",
        "        print(f\"An unexpected error occurred: {e}\")\n",
        "\n",
        "filename = 'nonexistent_file.txt'\n",
        "read_file(filename)"
      ],
      "metadata": {
        "colab": {
          "base_uri": "https://localhost:8080/"
        },
        "id": "7npDZJF13snB",
        "outputId": "eaf7022f-4889-4163-bda2-22c3f4b149c2"
      },
      "execution_count": 53,
      "outputs": [
        {
          "output_type": "stream",
          "name": "stderr",
          "text": [
            "ERROR:root:File not found: nonexistent_file.txt\n"
          ]
        },
        {
          "output_type": "stream",
          "name": "stdout",
          "text": [
            "Error: The file 'nonexistent_file.txt' was not found.\n"
          ]
        }
      ]
    },
    {
      "cell_type": "code",
      "source": [],
      "metadata": {
        "id": "OCXPyfJC4a4f"
      },
      "execution_count": null,
      "outputs": []
    }
  ]
}